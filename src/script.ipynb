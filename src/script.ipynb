{
 "cells": [
  {
   "cell_type": "code",
   "execution_count": 14,
   "metadata": {},
   "outputs": [
    {
     "name": "stdout",
     "output_type": "stream",
     "text": [
      "The autoreload extension is already loaded. To reload it, use:\n",
      "  %reload_ext autoreload\n"
     ]
    }
   ],
   "source": [
    "%load_ext autoreload"
   ]
  },
  {
   "cell_type": "code",
   "execution_count": 15,
   "metadata": {},
   "outputs": [],
   "source": [
    "%autoreload 2"
   ]
  },
  {
   "cell_type": "code",
   "execution_count": 17,
   "metadata": {},
   "outputs": [],
   "source": [
    "from util import (\n",
    "    bfs,\n",
    "    unexplored_directions,\n",
    "    find_unexplored_room,\n",
    "    find_room_direction,\n",
    "    movement,wise_wizard,\n",
    "    pickle_graph, \n",
    "    record_room_info, \n",
    "    pickup_treasure\n",
    ")\n",
    "\n",
    "from decouple import config\n",
    "import requests\n",
    "import time\n",
    "import pickle\n"
   ]
  },
  {
   "cell_type": "code",
   "execution_count": 27,
   "metadata": {},
   "outputs": [
    {
     "ename": "KeyError",
     "evalue": "None",
     "output_type": "error",
     "traceback": [
      "\u001b[0;31m---------------------------------------------------------------------------\u001b[0m",
      "\u001b[0;31mKeyError\u001b[0m                                  Traceback (most recent call last)",
      "\u001b[0;32m<ipython-input-27-fe484b3d80dc>\u001b[0m in \u001b[0;36m<module>\u001b[0;34m\u001b[0m\n\u001b[1;32m      2\u001b[0m \u001b[0minit_headers\u001b[0m\u001b[0;34m=\u001b[0m\u001b[0;34m{\u001b[0m\u001b[0;34m\"Authorization\"\u001b[0m\u001b[0;34m:\u001b[0m\u001b[0;34mf\"Token {API_KEY}\"\u001b[0m\u001b[0;34m}\u001b[0m\u001b[0;34m\u001b[0m\u001b[0;34m\u001b[0m\u001b[0m\n\u001b[1;32m      3\u001b[0m \u001b[0mresponse\u001b[0m \u001b[0;34m=\u001b[0m \u001b[0mrequests\u001b[0m\u001b[0;34m.\u001b[0m\u001b[0mget\u001b[0m\u001b[0;34m(\u001b[0m\u001b[0;34m\"https://lambda-treasure-hunt.herokuapp.com/api/adv/init/\"\u001b[0m\u001b[0;34m,\u001b[0m\u001b[0mheaders\u001b[0m\u001b[0;34m=\u001b[0m\u001b[0minit_headers\u001b[0m\u001b[0;34m)\u001b[0m\u001b[0;34m\u001b[0m\u001b[0;34m\u001b[0m\u001b[0m\n\u001b[0;32m----> 4\u001b[0;31m \u001b[0mroom_id\u001b[0m \u001b[0;34m=\u001b[0m \u001b[0mrecord_room_info\u001b[0m\u001b[0;34m(\u001b[0m\u001b[0mplayer_graph\u001b[0m\u001b[0;34m,\u001b[0m\u001b[0mresponse\u001b[0m\u001b[0;34m)\u001b[0m\u001b[0;34m\u001b[0m\u001b[0;34m\u001b[0m\u001b[0m\n\u001b[0m",
      "\u001b[0;32m/mnt/e/cs/CS-Build-Week-2/Untitled Folder/util.py\u001b[0m in \u001b[0;36mrecord_room_info\u001b[0;34m(player_graph, response, direction, previous_room)\u001b[0m\n\u001b[1;32m    140\u001b[0m         \u001b[0mplayer_graph\u001b[0m\u001b[0;34m[\u001b[0m\u001b[0mroom_id\u001b[0m\u001b[0;34m]\u001b[0m\u001b[0;34m[\u001b[0m\u001b[0;34m\"exits\"\u001b[0m\u001b[0;34m]\u001b[0m \u001b[0;34m=\u001b[0m \u001b[0;34m{\u001b[0m\u001b[0mi\u001b[0m\u001b[0;34m:\u001b[0m \u001b[0;34m\"?\"\u001b[0m \u001b[0;32mfor\u001b[0m \u001b[0mi\u001b[0m \u001b[0;32min\u001b[0m \u001b[0mr\u001b[0m\u001b[0;34m.\u001b[0m\u001b[0mjson\u001b[0m\u001b[0;34m(\u001b[0m\u001b[0;34m)\u001b[0m\u001b[0;34m[\u001b[0m\u001b[0;34m\"exits\"\u001b[0m\u001b[0;34m]\u001b[0m\u001b[0;34m}\u001b[0m\u001b[0;34m\u001b[0m\u001b[0;34m\u001b[0m\u001b[0m\n\u001b[1;32m    141\u001b[0m \u001b[0;34m\u001b[0m\u001b[0m\n\u001b[0;32m--> 142\u001b[0;31m     \u001b[0;32mif\u001b[0m \u001b[0mplayer_graph\u001b[0m\u001b[0;34m[\u001b[0m\u001b[0mprevious_room\u001b[0m\u001b[0;34m]\u001b[0m\u001b[0;34m[\u001b[0m\u001b[0;34m\"exits\"\u001b[0m\u001b[0;34m]\u001b[0m\u001b[0;34m[\u001b[0m\u001b[0mdirection\u001b[0m\u001b[0;34m]\u001b[0m \u001b[0;34m==\u001b[0m \u001b[0;34m\"?\"\u001b[0m\u001b[0;34m:\u001b[0m\u001b[0;34m\u001b[0m\u001b[0;34m\u001b[0m\u001b[0m\n\u001b[0m\u001b[1;32m    143\u001b[0m         \u001b[0mplayer_graph\u001b[0m\u001b[0;34m[\u001b[0m\u001b[0mprevious_room\u001b[0m\u001b[0;34m]\u001b[0m\u001b[0;34m[\u001b[0m\u001b[0;34m\"exits\"\u001b[0m\u001b[0;34m]\u001b[0m\u001b[0;34m[\u001b[0m\u001b[0mdirection\u001b[0m\u001b[0;34m]\u001b[0m \u001b[0;34m=\u001b[0m \u001b[0mroom_id\u001b[0m\u001b[0;34m\u001b[0m\u001b[0;34m\u001b[0m\u001b[0m\n\u001b[1;32m    144\u001b[0m     \u001b[0;32mif\u001b[0m \u001b[0mplayer_graph\u001b[0m\u001b[0;34m[\u001b[0m\u001b[0mroom_id\u001b[0m\u001b[0;34m]\u001b[0m\u001b[0;34m[\u001b[0m\u001b[0;34m\"exits\"\u001b[0m\u001b[0;34m]\u001b[0m\u001b[0;34m[\u001b[0m\u001b[0mopposite_map\u001b[0m\u001b[0;34m[\u001b[0m\u001b[0mdirection\u001b[0m\u001b[0;34m]\u001b[0m\u001b[0;34m]\u001b[0m \u001b[0;34m==\u001b[0m \u001b[0;34m\"?\"\u001b[0m\u001b[0;34m:\u001b[0m\u001b[0;34m\u001b[0m\u001b[0;34m\u001b[0m\u001b[0m\n",
      "\u001b[0;31mKeyError\u001b[0m: None"
     ]
    }
   ],
   "source": [
    "API_KEY=config(\"API_KEY\")\n",
    "init_headers={\"Authorization\":f\"Token {API_KEY}\"}\n",
    "response = requests.get(\"https://lambda-treasure-hunt.herokuapp.com/api/adv/init/\",headers=init_headers)\n",
    "room_id = record_room_info(player_graph,response)"
   ]
  },
  {
   "cell_type": "code",
   "execution_count": 8,
   "metadata": {},
   "outputs": [
    {
     "data": {
      "text/plain": [
       "(212, 2)"
      ]
     },
     "execution_count": 8,
     "metadata": {},
     "output_type": "execute_result"
    }
   ],
   "source": [
    "room_id = response.json()[\"room_id\"]\n",
    "len(player_graph),room_id"
   ]
  },
  {
   "cell_type": "code",
   "execution_count": null,
   "metadata": {
    "scrolled": true
   },
   "outputs": [
    {
     "name": "stdout",
     "output_type": "stream",
     "text": [
      "47 215\n",
      "71 216\n",
      "47 216\n",
      "43 216\n",
      "10 216\n",
      "19 217\n",
      "77 218\n",
      "19 218\n",
      "20 219\n",
      "46 220\n",
      "62 221\n",
      "84 222\n",
      "91 223\n",
      "99 224\n",
      "146 225\n",
      "257 226\n",
      "[]\n",
      "364 227\n",
      "['You have picked up tiny treasure']\n",
      "['You have picked up tiny treasure']\n",
      "[]\n",
      "448 228\n",
      "['You have picked up tiny treasure']\n",
      "['You have picked up tiny treasure']\n",
      "364 228\n",
      "381 229\n",
      "['You have picked up tiny treasure']\n",
      "394 230\n",
      "['You have picked up tiny treasure']\n",
      "['You have picked up small treasure']\n",
      "['You have picked up tiny treasure']\n",
      "['You have picked up tiny treasure']\n",
      "381 230\n"
     ]
    }
   ],
   "source": [
    "while len(player_graph) < 500:\n",
    "    \n",
    "#     import pdb;\n",
    "#     pdb.set_trace()\n",
    "    \n",
    "    print(room_id,len(player_graph))\n",
    "    \n",
    "    direction = None\n",
    "    ud  = unexplored_directions(player_graph,room_id)\n",
    "    \n",
    "    \n",
    "    cooldown = response.json()[\"cooldown\"]\n",
    "    time.sleep(cooldown)\n",
    "    \n",
    "    if len(response.json()[\"items\"])>0:\n",
    "        for ii in response.json()[\"items\"]:\n",
    "            response = pickup_treasure(ii,API_KEY)\n",
    "            print(response.json()[\"messages\"])\n",
    "            time.sleep(response.json()[\"cooldown\"])\n",
    "    \n",
    "    previous_room = room_id\n",
    "    \n",
    "    \n",
    "    \n",
    "    if len(response.json()[\"exits\"])==1:\n",
    "        direction = response.json()[\"exits\"].pop()\n",
    "        response = wise_wizard(direction,previous_room,API_KEY)\n",
    "        \n",
    "    elif len(ud)>=1:\n",
    "        direction = ud.pop()\n",
    "        response = movement(direction,API_KEY)\n",
    "        \n",
    "    elif len(ud) ==0:\n",
    "        nr = find_unexplored_room(player_graph)\n",
    "        path = bfs(room_id, nr, player_graph)\n",
    "        path = path[1:]\n",
    "        while len(path)>0:\n",
    "            next_room = path.pop(0)\n",
    "            direction = find_room_direction(response,player_graph, room_id, next_room)\n",
    "            if len(path)>=0:\n",
    "                previous_room = room_id\n",
    "                response = wise_wizard(direction,next_room,API_KEY)\n",
    "                record_room_info(player_graph,response,direction=direction,previous_room=previous_room)\n",
    "                break\n",
    "    pickle_graph(player_graph)\n",
    "\n",
    "    \n",
    "    room_id = record_room_info(player_graph,response,direction=direction,previous_room=previous_room)\n",
    "    "
   ]
  },
  {
   "cell_type": "code",
   "execution_count": 29,
   "metadata": {
    "scrolled": true
   },
   "outputs": [
    {
     "data": {
      "text/plain": [
       "{'room_id': 47,\n",
       " 'title': 'A misty room',\n",
       " 'description': 'You are standing on grass and surrounded by a dense mist. You can barely make out the exits in any direction.',\n",
       " 'coordinates': '(58,61)',\n",
       " 'elevation': 0,\n",
       " 'terrain': 'NORMAL',\n",
       " 'players': [],\n",
       " 'items': [],\n",
       " 'exits': ['n', 'e'],\n",
       " 'cooldown': 1.0,\n",
       " 'errors': [],\n",
       " 'messages': []}"
      ]
     },
     "execution_count": 29,
     "metadata": {},
     "output_type": "execute_result"
    }
   ],
   "source": [
    "response.json()"
   ]
  },
  {
   "cell_type": "code",
   "execution_count": null,
   "metadata": {},
   "outputs": [],
   "source": []
  }
 ],
 "metadata": {
  "@webio": {
   "lastCommId": null,
   "lastKernelId": null
  },
  "kernelspec": {
   "display_name": "Python 3",
   "language": "python",
   "name": "python3"
  }
 },
 "nbformat": 4,
 "nbformat_minor": 4
}
