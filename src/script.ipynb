{
 "cells": [
  {
   "cell_type": "code",
   "execution_count": 1,
   "metadata": {},
   "outputs": [],
   "source": [
    "%load_ext autoreload"
   ]
  },
  {
   "cell_type": "code",
   "execution_count": 2,
   "metadata": {},
   "outputs": [],
   "source": [
    "%autoreload 2"
   ]
  },
  {
   "cell_type": "code",
   "execution_count": 3,
   "metadata": {},
   "outputs": [],
   "source": [
    "from util import *\n",
    "\n",
    "from decouple import config\n",
    "import requests\n",
    "import time\n",
    "import pickle\n"
   ]
  },
  {
   "cell_type": "code",
   "execution_count": 35,
   "metadata": {},
   "outputs": [
    {
     "ename": "KeyError",
     "evalue": "None",
     "output_type": "error",
     "traceback": [
      "\u001b[0;31m---------------------------------------------------------------------------\u001b[0m",
      "\u001b[0;31mKeyError\u001b[0m                                  Traceback (most recent call last)",
      "\u001b[0;32m<ipython-input-35-fe484b3d80dc>\u001b[0m in \u001b[0;36m<module>\u001b[0;34m\u001b[0m\n\u001b[1;32m      2\u001b[0m \u001b[0minit_headers\u001b[0m\u001b[0;34m=\u001b[0m\u001b[0;34m{\u001b[0m\u001b[0;34m\"Authorization\"\u001b[0m\u001b[0;34m:\u001b[0m\u001b[0;34mf\"Token {API_KEY}\"\u001b[0m\u001b[0;34m}\u001b[0m\u001b[0;34m\u001b[0m\u001b[0;34m\u001b[0m\u001b[0m\n\u001b[1;32m      3\u001b[0m \u001b[0mresponse\u001b[0m \u001b[0;34m=\u001b[0m \u001b[0mrequests\u001b[0m\u001b[0;34m.\u001b[0m\u001b[0mget\u001b[0m\u001b[0;34m(\u001b[0m\u001b[0;34m\"https://lambda-treasure-hunt.herokuapp.com/api/adv/init/\"\u001b[0m\u001b[0;34m,\u001b[0m\u001b[0mheaders\u001b[0m\u001b[0;34m=\u001b[0m\u001b[0minit_headers\u001b[0m\u001b[0;34m)\u001b[0m\u001b[0;34m\u001b[0m\u001b[0;34m\u001b[0m\u001b[0m\n\u001b[0;32m----> 4\u001b[0;31m \u001b[0mroom_id\u001b[0m \u001b[0;34m=\u001b[0m \u001b[0mrecord_room_info\u001b[0m\u001b[0;34m(\u001b[0m\u001b[0mplayer_graph\u001b[0m\u001b[0;34m,\u001b[0m\u001b[0mresponse\u001b[0m\u001b[0;34m)\u001b[0m\u001b[0;34m\u001b[0m\u001b[0;34m\u001b[0m\u001b[0m\n\u001b[0m",
      "\u001b[0;32m/mnt/e/cs/CS-Build-Week-2/Untitled Folder/util.py\u001b[0m in \u001b[0;36mrecord_room_info\u001b[0;34m(player_graph, response, direction, previous_room)\u001b[0m\n\u001b[1;32m    164\u001b[0m         \u001b[0mplayer_graph\u001b[0m\u001b[0;34m[\u001b[0m\u001b[0mroom_id\u001b[0m\u001b[0;34m]\u001b[0m\u001b[0;34m[\u001b[0m\u001b[0;34m\"exits\"\u001b[0m\u001b[0;34m]\u001b[0m \u001b[0;34m=\u001b[0m \u001b[0;34m{\u001b[0m\u001b[0mi\u001b[0m\u001b[0;34m:\u001b[0m \u001b[0;34m\"?\"\u001b[0m \u001b[0;32mfor\u001b[0m \u001b[0mi\u001b[0m \u001b[0;32min\u001b[0m \u001b[0mr\u001b[0m\u001b[0;34m.\u001b[0m\u001b[0mjson\u001b[0m\u001b[0;34m(\u001b[0m\u001b[0;34m)\u001b[0m\u001b[0;34m[\u001b[0m\u001b[0;34m\"exits\"\u001b[0m\u001b[0;34m]\u001b[0m\u001b[0;34m}\u001b[0m\u001b[0;34m\u001b[0m\u001b[0;34m\u001b[0m\u001b[0m\n\u001b[1;32m    165\u001b[0m \u001b[0;34m\u001b[0m\u001b[0m\n\u001b[0;32m--> 166\u001b[0;31m     \u001b[0;32mif\u001b[0m \u001b[0mplayer_graph\u001b[0m\u001b[0;34m[\u001b[0m\u001b[0mprevious_room\u001b[0m\u001b[0;34m]\u001b[0m\u001b[0;34m[\u001b[0m\u001b[0;34m\"exits\"\u001b[0m\u001b[0;34m]\u001b[0m\u001b[0;34m[\u001b[0m\u001b[0mdirection\u001b[0m\u001b[0;34m]\u001b[0m \u001b[0;34m==\u001b[0m \u001b[0;34m\"?\"\u001b[0m\u001b[0;34m:\u001b[0m\u001b[0;34m\u001b[0m\u001b[0;34m\u001b[0m\u001b[0m\n\u001b[0m\u001b[1;32m    167\u001b[0m         \u001b[0mplayer_graph\u001b[0m\u001b[0;34m[\u001b[0m\u001b[0mprevious_room\u001b[0m\u001b[0;34m]\u001b[0m\u001b[0;34m[\u001b[0m\u001b[0;34m\"exits\"\u001b[0m\u001b[0;34m]\u001b[0m\u001b[0;34m[\u001b[0m\u001b[0mdirection\u001b[0m\u001b[0;34m]\u001b[0m \u001b[0;34m=\u001b[0m \u001b[0mroom_id\u001b[0m\u001b[0;34m\u001b[0m\u001b[0;34m\u001b[0m\u001b[0m\n\u001b[1;32m    168\u001b[0m     \u001b[0;32mif\u001b[0m \u001b[0mplayer_graph\u001b[0m\u001b[0;34m[\u001b[0m\u001b[0mroom_id\u001b[0m\u001b[0;34m]\u001b[0m\u001b[0;34m[\u001b[0m\u001b[0;34m\"exits\"\u001b[0m\u001b[0;34m]\u001b[0m\u001b[0;34m[\u001b[0m\u001b[0mopposite_map\u001b[0m\u001b[0;34m[\u001b[0m\u001b[0mdirection\u001b[0m\u001b[0;34m]\u001b[0m\u001b[0;34m]\u001b[0m \u001b[0;34m==\u001b[0m \u001b[0;34m\"?\"\u001b[0m\u001b[0;34m:\u001b[0m\u001b[0;34m\u001b[0m\u001b[0;34m\u001b[0m\u001b[0m\n",
      "\u001b[0;31mKeyError\u001b[0m: None"
     ]
    }
   ],
   "source": [
    "API_KEY=config(\"API_KEY\")\n",
    "init_headers={\"Authorization\":f\"Token {API_KEY}\"}\n",
    "response = requests.get(\"https://lambda-treasure-hunt.herokuapp.com/api/adv/init/\",headers=init_headers)\n",
    "room_id = record_room_info(player_graph,response)"
   ]
  },
  {
   "cell_type": "code",
   "execution_count": 7,
   "metadata": {},
   "outputs": [],
   "source": [
    "infile = open(\"player_graph_1.pkl\",'rb')\n",
    "player_graph = pickle.load(infile)\n",
    "infile.close()"
   ]
  },
  {
   "cell_type": "code",
   "execution_count": 8,
   "metadata": {},
   "outputs": [
    {
     "data": {
      "text/plain": [
       "230"
      ]
     },
     "execution_count": 8,
     "metadata": {},
     "output_type": "execute_result"
    }
   ],
   "source": [
    "len(player_graph)"
   ]
  },
  {
   "cell_type": "code",
   "execution_count": 36,
   "metadata": {},
   "outputs": [
    {
     "data": {
      "text/plain": [
       "106"
      ]
     },
     "execution_count": 36,
     "metadata": {},
     "output_type": "execute_result"
    }
   ],
   "source": [
    "room_id = response.json()[\"room_id\"]\n",
    "room_id"
   ]
  },
  {
   "cell_type": "code",
   "execution_count": null,
   "metadata": {
    "scrolled": true
   },
   "outputs": [
    {
     "name": "stdout",
     "output_type": "stream",
     "text": [
      "106 264\n",
      "[150, 166, 117, 108, 78, 22, 36]\n",
      "[166, 117, 108, 78, 22, 36]\n"
     ]
    }
   ],
   "source": [
    "while len(player_graph) < 500:\n",
    "    \n",
    "#     import pdb;\n",
    "#     pdb.set_trace()\n",
    "    \n",
    "    print(room_id,len(player_graph))\n",
    "    \n",
    "    direction = None\n",
    "    ud  = unexplored_directions(player_graph,room_id)\n",
    "    \n",
    "    \n",
    "    cooldown = response.json()[\"cooldown\"]\n",
    "    time.sleep(cooldown)\n",
    "    \n",
    "    if len(response.json()[\"items\"])>0:\n",
    "        for ii in response.json()[\"items\"]:\n",
    "            if \"treasure\" in ii:\n",
    "                pass\n",
    "            else:\n",
    "                response = pickup_treasure(ii,API_KEY)\n",
    "                cooldown=response.json()[\"cooldown\"]\n",
    "                time.sleep(cooldown)\n",
    "                break\n",
    "                \n",
    "            print(response.json()[\"messages\"])\n",
    "            time.sleep(response.json()[\"cooldown\"])\n",
    "    \n",
    "    previous_room = room_id\n",
    "    \n",
    "    \n",
    "    \n",
    "    if len(response.json()[\"exits\"])==1:\n",
    "        direction = response.json()[\"exits\"].pop()\n",
    "        response = wise_wizard(direction,previous_room,API_KEY)\n",
    "        \n",
    "    elif len(ud)>=1:\n",
    "        direction = ud.pop()\n",
    "        response = movement(direction,API_KEY)\n",
    "        \n",
    "    elif len(ud) ==0:\n",
    "        nr = find_unexplored_room(player_graph)\n",
    "        path = bfs(room_id, nr, player_graph)\n",
    "        path = path[1:]\n",
    "        while len(path)>0:\n",
    "            next_room = path.pop(0)\n",
    "            direction = find_room_direction(response,player_graph, room_id, next_room)\n",
    "            print(path)\n",
    "            if len(path)>=0:\n",
    "                previous_room = room_id\n",
    "                response = wise_wizard(direction,next_room,API_KEY)\n",
    "                time.sleep(response.json()[\"cooldown\"])\n",
    "                room_id = record_room_info(player_graph,response,direction=direction,previous_room=previous_room)\n",
    "    pickle_graph(player_graph)\n",
    "\n",
    "    \n",
    "    room_id = record_room_info(player_graph,response,direction=direction,previous_room=previous_room)\n",
    "    "
   ]
  },
  {
   "cell_type": "code",
   "execution_count": 34,
   "metadata": {},
   "outputs": [
    {
     "data": {
      "text/plain": [
       "{'cooldown': 11.231425999999999, 'errors': ['Cooldown Violation: +5s CD']}"
      ]
     },
     "execution_count": 34,
     "metadata": {},
     "output_type": "execute_result"
    }
   ],
   "source": [
    "response.json()"
   ]
  },
  {
   "cell_type": "markdown",
   "metadata": {},
   "source": [
    "### Sell Treasure"
   ]
  },
  {
   "cell_type": "code",
   "execution_count": 81,
   "metadata": {},
   "outputs": [],
   "source": [
    "path = bfs(room_id, 1, player_graph)\n",
    "path = path[1:]\n",
    "while len(path)>0:\n",
    "    next_room = path.pop(0)\n",
    "    direction = find_room_direction(response,player_graph, room_id, next_room)\n",
    "    if len(path)>=0:\n",
    "        previous_room = room_id\n",
    "        response = wise_wizard(direction,next_room,API_KEY)\n",
    "        time.sleep(response.json()[\"cooldown\"])\n",
    "        room_id = record_room_info(player_graph,response,direction=direction,previous_room=previous_room)"
   ]
  },
  {
   "cell_type": "code",
   "execution_count": 15,
   "metadata": {},
   "outputs": [
    {
     "data": {
      "text/plain": [
       "[]"
      ]
     },
     "execution_count": 15,
     "metadata": {},
     "output_type": "execute_result"
    }
   ],
   "source": [
    "inventory"
   ]
  },
  {
   "cell_type": "code",
   "execution_count": 17,
   "metadata": {},
   "outputs": [
    {
     "data": {
      "text/plain": [
       "{'name': 'User 20299',\n",
       " 'cooldown': 1.0,\n",
       " 'encumbrance': 0,\n",
       " 'strength': 10,\n",
       " 'speed': 10,\n",
       " 'gold': 2000,\n",
       " 'bodywear': None,\n",
       " 'footwear': None,\n",
       " 'inventory': [],\n",
       " 'abilities': [],\n",
       " 'status': [],\n",
       " 'has_mined': False,\n",
       " 'errors': [],\n",
       " 'messages': []}"
      ]
     },
     "execution_count": 17,
     "metadata": {},
     "output_type": "execute_result"
    }
   ],
   "source": [
    "status = check_inventory(API_KEY)\n",
    "status"
   ]
  },
  {
   "cell_type": "code",
   "execution_count": 13,
   "metadata": {},
   "outputs": [],
   "source": [
    "for ii in inventory:\n",
    "    print(ii)\n",
    "    if \"treasure\" in ii:\n",
    "        response = sell_treasure(ii,API_KEY)    \n",
    "        time.sleep(response.json()[\"cooldown\"])"
   ]
  },
  {
   "cell_type": "code",
   "execution_count": 14,
   "metadata": {},
   "outputs": [
    {
     "data": {
      "text/plain": [
       "[]"
      ]
     },
     "execution_count": 14,
     "metadata": {},
     "output_type": "execute_result"
    }
   ],
   "source": []
  },
  {
   "cell_type": "code",
   "execution_count": null,
   "metadata": {},
   "outputs": [],
   "source": []
  }
 ],
 "metadata": {
  "@webio": {
   "lastCommId": null,
   "lastKernelId": null
  },
  "kernelspec": {
   "display_name": "Python 3",
   "language": "python",
   "name": "python3"
  },
  "language_info": {
   "codemirror_mode": {
    "name": "ipython",
    "version": 3
   },
   "file_extension": ".py",
   "mimetype": "text/x-python",
   "name": "python",
   "nbconvert_exporter": "python",
   "pygments_lexer": "ipython3",
   "version": "3.6.7"
  }
 },
 "nbformat": 4,
 "nbformat_minor": 4
}
