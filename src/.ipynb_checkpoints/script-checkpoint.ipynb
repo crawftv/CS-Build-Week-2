{
 "cells": [
  {
   "cell_type": "code",
   "execution_count": 64,
   "metadata": {},
   "outputs": [
    {
     "name": "stdout",
     "output_type": "stream",
     "text": [
      "The autoreload extension is already loaded. To reload it, use:\n",
      "  %reload_ext autoreload\n"
     ]
    }
   ],
   "source": [
    "%load_ext autoreload"
   ]
  },
  {
   "cell_type": "code",
   "execution_count": 65,
   "metadata": {},
   "outputs": [],
   "source": [
    "%autoreload 2"
   ]
  },
  {
   "cell_type": "code",
   "execution_count": 66,
   "metadata": {},
   "outputs": [],
   "source": [
    "from util import bfs,unexplored_directions,find_unexplored_room,find_room_direction,movement,wise_wizard,pickle_graph, record_room_info\n",
    "from decouple import config\n",
    "import requests\n",
    "import time\n",
    "import pickle\n"
   ]
  },
  {
   "cell_type": "code",
   "execution_count": 70,
   "metadata": {},
   "outputs": [
    {
     "ename": "KeyError",
     "evalue": "None",
     "output_type": "error",
     "traceback": [
      "\u001b[0;31m---------------------------------------------------------------------------\u001b[0m",
      "\u001b[0;31mKeyError\u001b[0m                                  Traceback (most recent call last)",
      "\u001b[0;32m<ipython-input-70-fe484b3d80dc>\u001b[0m in \u001b[0;36m<module>\u001b[0;34m\u001b[0m\n\u001b[1;32m      2\u001b[0m \u001b[0minit_headers\u001b[0m\u001b[0;34m=\u001b[0m\u001b[0;34m{\u001b[0m\u001b[0;34m\"Authorization\"\u001b[0m\u001b[0;34m:\u001b[0m\u001b[0;34mf\"Token {API_KEY}\"\u001b[0m\u001b[0;34m}\u001b[0m\u001b[0;34m\u001b[0m\u001b[0;34m\u001b[0m\u001b[0m\n\u001b[1;32m      3\u001b[0m \u001b[0mresponse\u001b[0m \u001b[0;34m=\u001b[0m \u001b[0mrequests\u001b[0m\u001b[0;34m.\u001b[0m\u001b[0mget\u001b[0m\u001b[0;34m(\u001b[0m\u001b[0;34m\"https://lambda-treasure-hunt.herokuapp.com/api/adv/init/\"\u001b[0m\u001b[0;34m,\u001b[0m\u001b[0mheaders\u001b[0m\u001b[0;34m=\u001b[0m\u001b[0minit_headers\u001b[0m\u001b[0;34m)\u001b[0m\u001b[0;34m\u001b[0m\u001b[0;34m\u001b[0m\u001b[0m\n\u001b[0;32m----> 4\u001b[0;31m \u001b[0mroom_id\u001b[0m \u001b[0;34m=\u001b[0m \u001b[0mrecord_room_info\u001b[0m\u001b[0;34m(\u001b[0m\u001b[0mplayer_graph\u001b[0m\u001b[0;34m,\u001b[0m\u001b[0mresponse\u001b[0m\u001b[0;34m)\u001b[0m\u001b[0;34m\u001b[0m\u001b[0;34m\u001b[0m\u001b[0m\n\u001b[0m",
      "\u001b[0;32m/mnt/e/cs/CS-Build-Week-2/Untitled Folder/util.py\u001b[0m in \u001b[0;36mrecord_room_info\u001b[0;34m(player_graph, response, direction, previous_room)\u001b[0m\n\u001b[1;32m    125\u001b[0m         \u001b[0mplayer_graph\u001b[0m\u001b[0;34m[\u001b[0m\u001b[0mroom_id\u001b[0m\u001b[0;34m]\u001b[0m\u001b[0;34m[\u001b[0m\u001b[0;34m\"exits\"\u001b[0m\u001b[0;34m]\u001b[0m \u001b[0;34m=\u001b[0m \u001b[0;34m{\u001b[0m\u001b[0mi\u001b[0m\u001b[0;34m:\u001b[0m \u001b[0;34m\"?\"\u001b[0m \u001b[0;32mfor\u001b[0m \u001b[0mi\u001b[0m \u001b[0;32min\u001b[0m \u001b[0mr\u001b[0m\u001b[0;34m.\u001b[0m\u001b[0mjson\u001b[0m\u001b[0;34m(\u001b[0m\u001b[0;34m)\u001b[0m\u001b[0;34m[\u001b[0m\u001b[0;34m\"exits\"\u001b[0m\u001b[0;34m]\u001b[0m\u001b[0;34m}\u001b[0m\u001b[0;34m\u001b[0m\u001b[0;34m\u001b[0m\u001b[0m\n\u001b[1;32m    126\u001b[0m \u001b[0;34m\u001b[0m\u001b[0m\n\u001b[0;32m--> 127\u001b[0;31m     \u001b[0;32mif\u001b[0m \u001b[0mplayer_graph\u001b[0m\u001b[0;34m[\u001b[0m\u001b[0mprevious_room\u001b[0m\u001b[0;34m]\u001b[0m\u001b[0;34m[\u001b[0m\u001b[0;34m\"exits\"\u001b[0m\u001b[0;34m]\u001b[0m\u001b[0;34m[\u001b[0m\u001b[0mdirection\u001b[0m\u001b[0;34m]\u001b[0m \u001b[0;34m==\u001b[0m \u001b[0;34m\"?\"\u001b[0m\u001b[0;34m:\u001b[0m\u001b[0;34m\u001b[0m\u001b[0;34m\u001b[0m\u001b[0m\n\u001b[0m\u001b[1;32m    128\u001b[0m         \u001b[0mplayer_graph\u001b[0m\u001b[0;34m[\u001b[0m\u001b[0mprevious_room\u001b[0m\u001b[0;34m]\u001b[0m\u001b[0;34m[\u001b[0m\u001b[0;34m\"exits\"\u001b[0m\u001b[0;34m]\u001b[0m\u001b[0;34m[\u001b[0m\u001b[0mdirection\u001b[0m\u001b[0;34m]\u001b[0m \u001b[0;34m=\u001b[0m \u001b[0mroom_id\u001b[0m\u001b[0;34m\u001b[0m\u001b[0;34m\u001b[0m\u001b[0m\n\u001b[1;32m    129\u001b[0m     \u001b[0;32mif\u001b[0m \u001b[0mplayer_graph\u001b[0m\u001b[0;34m[\u001b[0m\u001b[0mroom_id\u001b[0m\u001b[0;34m]\u001b[0m\u001b[0;34m[\u001b[0m\u001b[0;34m\"exits\"\u001b[0m\u001b[0;34m]\u001b[0m\u001b[0;34m[\u001b[0m\u001b[0mopposite_map\u001b[0m\u001b[0;34m[\u001b[0m\u001b[0mdirection\u001b[0m\u001b[0;34m]\u001b[0m\u001b[0;34m]\u001b[0m \u001b[0;34m==\u001b[0m \u001b[0;34m\"?\"\u001b[0m\u001b[0;34m:\u001b[0m\u001b[0;34m\u001b[0m\u001b[0;34m\u001b[0m\u001b[0m\n",
      "\u001b[0;31mKeyError\u001b[0m: None"
     ]
    }
   ],
   "source": [
    "API_KEY=config(\"API_KEY\")\n",
    "init_headers={\"Authorization\":f\"Token {API_KEY}\"}\n",
    "response = requests.get(\"https://lambda-treasure-hunt.herokuapp.com/api/adv/init/\",headers=init_headers)\n",
    "room_id = record_room_info(player_graph,response)"
   ]
  },
  {
   "cell_type": "code",
   "execution_count": 71,
   "metadata": {},
   "outputs": [
    {
     "data": {
      "text/plain": [
       "192"
      ]
     },
     "execution_count": 71,
     "metadata": {},
     "output_type": "execute_result"
    }
   ],
   "source": [
    "room_id = response.json()[\"room_id\"]\n",
    "len(player_graph)"
   ]
  },
  {
   "cell_type": "code",
   "execution_count": 73,
   "metadata": {
    "scrolled": true
   },
   "outputs": [
    {
     "name": "stdout",
     "output_type": "stream",
     "text": [
      "67 202\n"
     ]
    },
    {
     "ename": "KeyboardInterrupt",
     "evalue": "",
     "output_type": "error",
     "traceback": [
      "\u001b[0;31m---------------------------------------------------------------------------\u001b[0m",
      "\u001b[0;31mKeyboardInterrupt\u001b[0m                         Traceback (most recent call last)",
      "\u001b[0;32m<ipython-input-73-90f15976f828>\u001b[0m in \u001b[0;36m<module>\u001b[0;34m\u001b[0m\n\u001b[1;32m     10\u001b[0m \u001b[0;34m\u001b[0m\u001b[0m\n\u001b[1;32m     11\u001b[0m     \u001b[0mcooldown\u001b[0m \u001b[0;34m=\u001b[0m \u001b[0mresponse\u001b[0m\u001b[0;34m.\u001b[0m\u001b[0mjson\u001b[0m\u001b[0;34m(\u001b[0m\u001b[0;34m)\u001b[0m\u001b[0;34m[\u001b[0m\u001b[0;34m\"cooldown\"\u001b[0m\u001b[0;34m]\u001b[0m\u001b[0;34m\u001b[0m\u001b[0;34m\u001b[0m\u001b[0m\n\u001b[0;32m---> 12\u001b[0;31m     \u001b[0mtime\u001b[0m\u001b[0;34m.\u001b[0m\u001b[0msleep\u001b[0m\u001b[0;34m(\u001b[0m\u001b[0mcooldown\u001b[0m\u001b[0;34m)\u001b[0m\u001b[0;34m\u001b[0m\u001b[0;34m\u001b[0m\u001b[0m\n\u001b[0m\u001b[1;32m     13\u001b[0m     \u001b[0mprevious_room\u001b[0m \u001b[0;34m=\u001b[0m \u001b[0mroom_id\u001b[0m\u001b[0;34m\u001b[0m\u001b[0;34m\u001b[0m\u001b[0m\n\u001b[1;32m     14\u001b[0m \u001b[0;34m\u001b[0m\u001b[0m\n",
      "\u001b[0;31mKeyboardInterrupt\u001b[0m: "
     ]
    }
   ],
   "source": [
    "while len(player_graph) < 500:\n",
    "    \n",
    "#     import pdb;\n",
    "#     pdb.set_trace()\n",
    "    \n",
    "    print(room_id,len(player_graph))\n",
    "    \n",
    "    direction = None\n",
    "    ud  = unexplored_directions(player_graph,room_id)\n",
    "    \n",
    "    cooldown = response.json()[\"cooldown\"]\n",
    "    time.sleep(cooldown)\n",
    "    previous_room = room_id\n",
    "    \n",
    "    if len(response.json()[\"exits\"])==1:\n",
    "        direction = response.json()[\"exits\"].pop()\n",
    "        response = wise_wizard(direction,previous_room,API_KEY)\n",
    "        \n",
    "    elif len(ud)>=1:\n",
    "        direction = ud.pop()\n",
    "        response = movement(direction,API_KEY)\n",
    "        \n",
    "    elif len(ud) ==0:\n",
    "        nr = find_unexplored_room(player_graph)\n",
    "        path = bfs(room_id, nr, player_graph)\n",
    "        path = path[1:]\n",
    "        while len(path)>0:\n",
    "            next_room = path.pop(0)\n",
    "            direction = find_room_direction(response,player_graph, room_id, next_room)\n",
    "            if len(path)>0:\n",
    "                #wise_explorer\n",
    "                previous_room = room_id\n",
    "                response = wise_wizard(direction,next_room,API_KEY)\n",
    "                traversal_path.append(direction)\n",
    "                record_room_info(player_graph,response,direction=direction,previous_room=previous_room)\n",
    "                visited_rooms_list.append(room_id)\n",
    "                break\n",
    "    pickle_graph(player_graph)\n",
    "\n",
    "    for ii in response.json()[\"items\"]:\n",
    "        response = pickup_treasure(ii,API_KEY)\n",
    "    if len(items)>\n",
    "    room_id = record_room_info(player_graph,response,direction=direction,previous_room=previous_room)\n",
    "    traversal_path.append(direction)\n",
    "    visited_rooms_list.append(room_id)\n",
    "    "
   ]
  },
  {
   "cell_type": "code",
   "execution_count": 75,
   "metadata": {},
   "outputs": [
    {
     "data": {
      "text/plain": [
       "{'room_id': 67,\n",
       " 'title': 'A misty room',\n",
       " 'description': 'You are standing on grass and surrounded by a dense mist. You can barely make out the exits in any direction.',\n",
       " 'coordinates': '(57,59)',\n",
       " 'elevation': 0,\n",
       " 'terrain': 'NORMAL',\n",
       " 'players': [],\n",
       " 'items': [],\n",
       " 'exits': ['e', 'w'],\n",
       " 'cooldown': 15.0,\n",
       " 'errors': [],\n",
       " 'messages': ['You have walked west.']}"
      ]
     },
     "execution_count": 75,
     "metadata": {},
     "output_type": "execute_result"
    }
   ],
   "source": [
    "response.json()"
   ]
  },
  {
   "cell_type": "code",
   "execution_count": 76,
   "metadata": {},
   "outputs": [
    {
     "data": {
      "text/plain": [
       "[]"
      ]
     },
     "execution_count": 76,
     "metadata": {},
     "output_type": "execute_result"
    }
   ],
   "source": [
    "items = response.json()[\"items\"]\n",
    "items"
   ]
  },
  {
   "cell_type": "code",
   "execution_count": 77,
   "metadata": {},
   "outputs": [],
   "source": [
    "for i in []:\n",
    "    print(\"A\")"
   ]
  },
  {
   "cell_type": "code",
   "execution_count": 55,
   "metadata": {},
   "outputs": [
    {
     "data": {
      "text/plain": [
       "{'title': 'A misty room',\n",
       " 'description': 'You are standing on grass and surrounded by a dense mist. You can barely make out the exits in any direction.',\n",
       " 'coordinates': '(73,58)',\n",
       " 'messages': ['You have walked east.'],\n",
       " 'elevation': 0,\n",
       " 'terrain': 'NORMAL',\n",
       " 'exits': {'w': 443}}"
      ]
     },
     "execution_count": 55,
     "metadata": {},
     "output_type": "execute_result"
    }
   ],
   "source": [
    "player_graph[room_id]"
   ]
  },
  {
   "cell_type": "code",
   "execution_count": 38,
   "metadata": {},
   "outputs": [
    {
     "ename": "KeyError",
     "evalue": "'s'",
     "output_type": "error",
     "traceback": [
      "\u001b[0;31m---------------------------------------------------------------------------\u001b[0m",
      "\u001b[0;31mKeyError\u001b[0m                                  Traceback (most recent call last)",
      "\u001b[0;32m<ipython-input-38-3cc7d4ee9f54>\u001b[0m in \u001b[0;36m<module>\u001b[0;34m\u001b[0m\n\u001b[0;32m----> 1\u001b[0;31m \u001b[0mfind_room_direction\u001b[0m\u001b[0;34m(\u001b[0m\u001b[0mresponse\u001b[0m\u001b[0;34m,\u001b[0m\u001b[0mplayer_graph\u001b[0m\u001b[0;34m,\u001b[0m \u001b[0mroom_id\u001b[0m\u001b[0;34m,\u001b[0m \u001b[0mnext_room\u001b[0m\u001b[0;34m)\u001b[0m\u001b[0;34m\u001b[0m\u001b[0;34m\u001b[0m\u001b[0m\n\u001b[0m",
      "\u001b[0;32m/mnt/e/cs/CS-Build-Week-2/Untitled Folder/util.py\u001b[0m in \u001b[0;36mfind_room_direction\u001b[0;34m(response, player_graph, room_id, next_room)\u001b[0m\n\u001b[1;32m     72\u001b[0m \u001b[0;32mdef\u001b[0m \u001b[0mfind_room_direction\u001b[0m\u001b[0;34m(\u001b[0m\u001b[0mresponse\u001b[0m\u001b[0;34m,\u001b[0m\u001b[0mplayer_graph\u001b[0m\u001b[0;34m,\u001b[0m \u001b[0mroom_id\u001b[0m\u001b[0;34m,\u001b[0m \u001b[0mnext_room\u001b[0m\u001b[0;34m)\u001b[0m\u001b[0;34m:\u001b[0m\u001b[0;34m\u001b[0m\u001b[0;34m\u001b[0m\u001b[0m\n\u001b[1;32m     73\u001b[0m     \u001b[0;32mfor\u001b[0m \u001b[0mi\u001b[0m \u001b[0;32min\u001b[0m \u001b[0mresponse\u001b[0m\u001b[0;34m.\u001b[0m\u001b[0mjson\u001b[0m\u001b[0;34m(\u001b[0m\u001b[0;34m)\u001b[0m\u001b[0;34m[\u001b[0m\u001b[0;34m\"exits\"\u001b[0m\u001b[0;34m]\u001b[0m\u001b[0;34m:\u001b[0m\u001b[0;34m\u001b[0m\u001b[0;34m\u001b[0m\u001b[0m\n\u001b[0;32m---> 74\u001b[0;31m         \u001b[0;32mif\u001b[0m \u001b[0mplayer_graph\u001b[0m\u001b[0;34m[\u001b[0m\u001b[0mroom_id\u001b[0m\u001b[0;34m]\u001b[0m\u001b[0;34m[\u001b[0m\u001b[0;34m\"exits\"\u001b[0m\u001b[0;34m]\u001b[0m\u001b[0;34m[\u001b[0m\u001b[0mi\u001b[0m\u001b[0;34m]\u001b[0m \u001b[0;34m==\u001b[0m \u001b[0mnext_room\u001b[0m\u001b[0;34m:\u001b[0m\u001b[0;34m\u001b[0m\u001b[0;34m\u001b[0m\u001b[0m\n\u001b[0m\u001b[1;32m     75\u001b[0m             \u001b[0;32mreturn\u001b[0m \u001b[0mi\u001b[0m\u001b[0;34m\u001b[0m\u001b[0;34m\u001b[0m\u001b[0m\n\u001b[1;32m     76\u001b[0m \u001b[0;34m\u001b[0m\u001b[0m\n",
      "\u001b[0;31mKeyError\u001b[0m: 's'"
     ]
    }
   ],
   "source": [
    "find_room_direction(response,player_graph, room_id, next_room)"
   ]
  },
  {
   "cell_type": "code",
   "execution_count": 36,
   "metadata": {
    "scrolled": true
   },
   "outputs": [
    {
     "data": {
      "text/plain": [
       "{0: {'title': 'A brightly lit room',\n",
       "  'description': 'You are standing in the center of a brightly lit room. You notice a shop to the west and exits to the north, south and east.',\n",
       "  'coordinates': '(60,60)',\n",
       "  'messages': ['You have walked east.', 'Wise Explorer: -50% CD'],\n",
       "  'elevation': 0,\n",
       "  'terrain': 'NORMAL',\n",
       "  'exits': {'n': '?', 's': 2, 'e': 0, 'w': 1}},\n",
       " 1: {'title': 'Shop',\n",
       "  'description': \"You are standing in a small shop. A sign behind the mechanical shopkeeper says 'WILL PAY FOR TREASURE'.\",\n",
       "  'coordinates': '(59,60)',\n",
       "  'messages': ['You have walked west.'],\n",
       "  'elevation': 0,\n",
       "  'terrain': 'NORMAL',\n",
       "  'exits': {'e': 0}},\n",
       " 2: {'title': 'A misty room',\n",
       "  'description': 'You are standing on grass and surrounded by a dense mist. You can barely make out the exits in any direction.',\n",
       "  'coordinates': '(60,59)',\n",
       "  'messages': ['You have walked south.'],\n",
       "  'elevation': 0,\n",
       "  'terrain': 'NORMAL',\n",
       "  'exits': {'n': 0, 's': '?', 'e': 3}},\n",
       " 3: {'title': 'Mt. Holloway',\n",
       "  'description': 'You are at the base of a large, looming mountain.',\n",
       "  'coordinates': '(61,59)',\n",
       "  'messages': ['You have walked west.',\n",
       "   'Uphill Penalty: 5s CD',\n",
       "   'Wise Explorer: -50% CD'],\n",
       "  'elevation': 1,\n",
       "  'terrain': 'MOUNTAIN',\n",
       "  'exits': {'s': 9, 'e': 5, 'w': 2}},\n",
       " 5: {'title': 'A misty room',\n",
       "  'description': 'You are standing on grass and surrounded by a dense mist. You can barely make out the exits in any direction.',\n",
       "  'coordinates': '(62,59)',\n",
       "  'messages': ['You have walked east.'],\n",
       "  'elevation': 0,\n",
       "  'terrain': 'NORMAL',\n",
       "  'exits': {'w': 3}},\n",
       " 9: {'title': 'Mt. Holloway',\n",
       "  'description': 'You are on the side of a steep incline.',\n",
       "  'coordinates': '(61,58)',\n",
       "  'messages': ['You have walked south.', 'Uphill Penalty: 5s CD'],\n",
       "  'elevation': 2,\n",
       "  'terrain': 'MOUNTAIN',\n",
       "  'exits': {'n': 3, 's': '?', 'e': 11}},\n",
       " 11: {'title': 'Mt. Holloway',\n",
       "  'description': 'You are at the base of a large, looming mountain.',\n",
       "  'coordinates': '(62,58)',\n",
       "  'messages': ['You have walked east.'],\n",
       "  'elevation': 1,\n",
       "  'terrain': 'MOUNTAIN',\n",
       "  'exits': {'e': 17, 'w': 9}},\n",
       " 17: {'title': 'A misty room',\n",
       "  'description': 'You are standing on grass and surrounded by a dense mist. You can barely make out the exits in any direction.',\n",
       "  'coordinates': '(63,58)',\n",
       "  'messages': ['You have walked east.'],\n",
       "  'elevation': 0,\n",
       "  'terrain': 'NORMAL',\n",
       "  'exits': {'n': '?', 'e': 42, 'w': 11}},\n",
       " 42: {'title': 'A misty room',\n",
       "  'description': 'You are standing on grass and surrounded by a dense mist. You can barely make out the exits in any direction.',\n",
       "  'coordinates': '(64,58)',\n",
       "  'messages': ['You have walked west.', 'Wise Explorer: -50% CD'],\n",
       "  'elevation': 0,\n",
       "  'terrain': 'NORMAL',\n",
       "  'exits': {'n': '?', 's': 80, 'e': 118, 'w': 17}},\n",
       " 118: {'title': 'A misty room',\n",
       "  'description': 'You are standing on grass and surrounded by a dense mist. You can barely make out the exits in any direction.',\n",
       "  'coordinates': '(65,58)',\n",
       "  'messages': [],\n",
       "  'elevation': 0,\n",
       "  'terrain': 'NORMAL',\n",
       "  'exits': {'e': 137, 'w': 42}},\n",
       " 137: {'title': 'A misty room',\n",
       "  'description': 'You are standing on grass and surrounded by a dense mist. You can barely make out the exits in any direction.',\n",
       "  'coordinates': '(66,58)',\n",
       "  'messages': ['You have walked east.'],\n",
       "  'elevation': 0,\n",
       "  'terrain': 'NORMAL',\n",
       "  'exits': {'w': 118}},\n",
       " 80: {'title': 'A misty room',\n",
       "  'description': 'You are standing on grass and surrounded by a dense mist. You can barely make out the exits in any direction.',\n",
       "  'coordinates': '(64,57)',\n",
       "  'messages': ['You have walked south.'],\n",
       "  'elevation': 0,\n",
       "  'terrain': 'NORMAL',\n",
       "  'exits': {'n': 42, 's': '?', 'e': 86}},\n",
       " 86: {'title': 'A misty room',\n",
       "  'description': 'You are standing on grass and surrounded by a dense mist. You can barely make out the exits in any direction.',\n",
       "  'coordinates': '(65,57)',\n",
       "  'messages': ['You have walked east.'],\n",
       "  'elevation': 0,\n",
       "  'terrain': 'NORMAL',\n",
       "  'exits': {'s': '?', 'e': 90, 'w': 80}},\n",
       " 90: {'title': 'A misty room',\n",
       "  'description': 'You are standing on grass and surrounded by a dense mist. You can barely make out the exits in any direction.',\n",
       "  'coordinates': '(66,57)',\n",
       "  'messages': ['You have walked east.'],\n",
       "  'elevation': 0,\n",
       "  'terrain': 'NORMAL',\n",
       "  'exits': {'e': 178, 'w': 86}},\n",
       " 178: {'title': 'A misty room',\n",
       "  'description': 'You are standing on grass and surrounded by a dense mist. You can barely make out the exits in any direction.',\n",
       "  'coordinates': '(67,57)',\n",
       "  'messages': ['You have walked east.'],\n",
       "  'elevation': 0,\n",
       "  'terrain': 'NORMAL',\n",
       "  'exits': {'n': '?', 'e': 243, 'w': 90}},\n",
       " 243: {'title': 'A misty room',\n",
       "  'description': 'You are standing on grass and surrounded by a dense mist. You can barely make out the exits in any direction.',\n",
       "  'coordinates': '(68,57)',\n",
       "  'messages': ['You have walked east.'],\n",
       "  'elevation': 0,\n",
       "  'terrain': 'NORMAL',\n",
       "  'exits': {'s': '?', 'e': 256, 'w': 178}},\n",
       " 256: {'title': 'A misty room',\n",
       "  'description': 'You are standing on grass and surrounded by a dense mist. You can barely make out the exits in any direction.',\n",
       "  'coordinates': '(69,57)',\n",
       "  'messages': ['You have walked east.'],\n",
       "  'elevation': 0,\n",
       "  'terrain': 'NORMAL',\n",
       "  'exits': {'s': '?', 'e': 327, 'w': 243}},\n",
       " 327: {'title': 'A misty room',\n",
       "  'description': 'You are standing on grass and surrounded by a dense mist. You can barely make out the exits in any direction.',\n",
       "  'coordinates': '(70,57)',\n",
       "  'messages': ['You have walked east.'],\n",
       "  'elevation': 0,\n",
       "  'terrain': 'NORMAL',\n",
       "  'exits': {'e': 427, 'w': 256}},\n",
       " 427: {'title': 'A misty room',\n",
       "  'description': 'You are standing on grass and surrounded by a dense mist. You can barely make out the exits in any direction.',\n",
       "  'coordinates': '(71,57)',\n",
       "  'messages': ['You have walked east.'],\n",
       "  'elevation': 0,\n",
       "  'terrain': 'NORMAL',\n",
       "  'exits': {'e': 430, 'w': 327}},\n",
       " 430: {'title': 'A misty room',\n",
       "  'description': 'You are standing on grass and surrounded by a dense mist. You can barely make out the exits in any direction.',\n",
       "  'coordinates': '(72,57)',\n",
       "  'messages': ['You have walked west.', 'Wise Explorer: -50% CD'],\n",
       "  'elevation': 0,\n",
       "  'terrain': 'NORMAL',\n",
       "  'exits': {'n': 443, 'e': 439, 'w': 427}},\n",
       " 439: {'title': 'A misty room',\n",
       "  'description': 'You are standing on grass and surrounded by a dense mist. You can barely make out the exits in any direction.',\n",
       "  'coordinates': '(73,57)',\n",
       "  'messages': ['You have walked east.'],\n",
       "  'elevation': 0,\n",
       "  'terrain': 'NORMAL',\n",
       "  'exits': {'w': 430}},\n",
       " 443: {'title': 'A misty room',\n",
       "  'description': 'You are standing on grass and surrounded by a dense mist. You can barely make out the exits in any direction.',\n",
       "  'coordinates': '(72,58)',\n",
       "  'messages': ['You have walked west.', 'Wise Explorer: -50% CD'],\n",
       "  'elevation': 0,\n",
       "  'terrain': 'NORMAL',\n",
       "  'exits': {'s': 430, 'e': 471}},\n",
       " 471: {'title': 'A misty room',\n",
       "  'description': 'You are standing on grass and surrounded by a dense mist. You can barely make out the exits in any direction.',\n",
       "  'coordinates': '(73,58)',\n",
       "  'messages': ['You have walked east.'],\n",
       "  'elevation': 0,\n",
       "  'terrain': 'NORMAL',\n",
       "  'exits': {'w': 443}}}"
      ]
     },
     "execution_count": 36,
     "metadata": {},
     "output_type": "execute_result"
    }
   ],
   "source": [
    "player_graph"
   ]
  },
  {
   "cell_type": "code",
   "execution_count": null,
   "metadata": {},
   "outputs": [],
   "source": []
  }
 ],
 "metadata": {
  "@webio": {
   "lastCommId": null,
   "lastKernelId": null
  },
  "kernelspec": {
   "display_name": "Python 3",
   "language": "python",
   "name": "python3"
  },
  "language_info": {
   "codemirror_mode": {
    "name": "ipython",
    "version": 3
   },
   "file_extension": ".py",
   "mimetype": "text/x-python",
   "name": "python",
   "nbconvert_exporter": "python",
   "pygments_lexer": "ipython3",
   "version": "3.6.7"
  }
 },
 "nbformat": 4,
 "nbformat_minor": 4
}
